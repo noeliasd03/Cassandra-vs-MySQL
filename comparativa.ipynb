{
 "cells": [
  {
   "cell_type": "markdown",
   "metadata": {},
   "source": [
    "# Cassandra vs MySQL\n",
    "Tras haber insertado datos en nuestras bases de datos, haremos un comparativa de los tiempos de consulta que nos lleva en cada una de ellas el cálculo de la media de edad. Estas consultas están siendo realizadas sobre 20000 registros."
   ]
  },
  {
   "cell_type": "code",
   "execution_count": 17,
   "metadata": {},
   "outputs": [
    {
     "name": "stdout",
     "output_type": "stream",
     "text": [
      "La media de edad (age) es: 49.0474\n",
      "Conexión a MySQL cerrada\n",
      "CPU times: user 7.44 ms, sys: 7.71 ms, total: 15.2 ms\n",
      "Wall time: 506 ms\n"
     ]
    }
   ],
   "source": [
    "%%time\n",
    "!python mysql/consultas_sql.py"
   ]
  },
  {
   "cell_type": "code",
   "execution_count": 18,
   "metadata": {},
   "outputs": [
    {
     "name": "stdout",
     "output_type": "stream",
     "text": [
      "La media de edad es: 49.04735\n",
      "CPU times: user 7.33 ms, sys: 13.1 ms, total: 20.4 ms\n",
      "Wall time: 961 ms\n"
     ]
    }
   ],
   "source": [
    "%%time\n",
    "!python cassandra/consultas_cassandra.py"
   ]
  },
  {
   "cell_type": "markdown",
   "metadata": {},
   "source": [
    "**Conclusión**\n",
    "Con un set de 20000 rexistros (cantidade moi pequena en termos computacionais), podemos comprobar que SQL es más rápido. Sin embargo, si añadiésemos millones de datos comprobaríamos que Cassandra es más rápido. \n"
   ]
  }
 ],
 "metadata": {
  "kernelspec": {
   "display_name": "basesdatos",
   "language": "python",
   "name": "python3"
  },
  "language_info": {
   "codemirror_mode": {
    "name": "ipython",
    "version": 3
   },
   "file_extension": ".py",
   "mimetype": "text/x-python",
   "name": "python",
   "nbconvert_exporter": "python",
   "pygments_lexer": "ipython3",
   "version": "3.7.16"
  }
 },
 "nbformat": 4,
 "nbformat_minor": 2
}
