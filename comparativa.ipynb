{
 "cells": [
  {
   "cell_type": "markdown",
   "metadata": {},
   "source": [
    "# Cassandra vs MySQL\n",
    "Tras haber insertado datos en nuestras bases de datos, haremos un comparativa de los tiempos de consulta que nos lleva en cada una de ellas el cálculo de la media de edad. Estas consultas están siendo realizadas sobre 20000 registros."
   ]
  },
  {
   "cell_type": "code",
   "execution_count": 1,
   "metadata": {},
   "outputs": [
    {
     "name": "stdout",
     "output_type": "stream",
     "text": [
      "La media de edad es: 53.1000\n",
      "CPU times: user 25.9 ms, sys: 9.7 ms, total: 35.6 ms\n",
      "Wall time: 1.12 s\n"
     ]
    }
   ],
   "source": [
    "%%time\n",
    "!python mysql/consultas_sql.py"
   ]
  },
  {
   "cell_type": "code",
   "execution_count": 2,
   "metadata": {},
   "outputs": [
    {
     "name": "stdout",
     "output_type": "stream",
     "text": [
      "La media de edad es: 53.1\n",
      "CPU times: user 49.8 ms, sys: 10.2 ms, total: 60 ms\n",
      "Wall time: 1.21 s\n"
     ]
    }
   ],
   "source": [
    "%%time\n",
    "!python cassandra/consultas_cassandra.py"
   ]
  },
  {
   "cell_type": "markdown",
   "metadata": {},
   "source": [
    "**Conclusión**\n",
    "\n",
    "Con un set de 20000 rexistros (cantidadd muy pequeña en términos computacionales), podemos comprobar que SQL es más rápido. Sin embargo, si añadiésemos millones de datos comprobaríamos que Cassandra es más rápido. \n"
   ]
  }
 ],
 "metadata": {
  "kernelspec": {
   "display_name": "Python 3.7.16 ('basesdatos')",
   "language": "python",
   "name": "python3"
  },
  "language_info": {
   "codemirror_mode": {
    "name": "ipython",
    "version": 3
   },
   "file_extension": ".py",
   "mimetype": "text/x-python",
   "name": "python",
   "nbconvert_exporter": "python",
   "pygments_lexer": "ipython3",
   "version": "3.7.16"
  },
  "vscode": {
   "interpreter": {
    "hash": "8d7bfdaba984072c15b8095e79e25743d7682743f770200693c8aca86390e8dd"
   }
  }
 },
 "nbformat": 4,
 "nbformat_minor": 2
}
