{
 "cells": [
  {
   "cell_type": "markdown",
   "metadata": {},
   "source": [
    "# Cassandra vs MySQL\n",
    "Tras haber insertado datos en nuestras bases de datos, haremos un comparativa de los tiempos de consulta que nos lleva en cada una de ellas el cálculo de la media de edad."
   ]
  },
  {
   "cell_type": "code",
   "execution_count": 14,
   "metadata": {},
   "outputs": [
    {
     "name": "stdout",
     "output_type": "stream",
     "text": [
      "La media de edad (age) es: 49.0474\n",
      "Conexión a MySQL cerrada\n",
      "CPU times: user 2.52 ms, sys: 7.85 ms, total: 10.4 ms\n",
      "Wall time: 492 ms\n"
     ]
    }
   ],
   "source": [
    "%%time\n",
    "!python mysql/consultas_sql.py"
   ]
  },
  {
   "cell_type": "code",
   "execution_count": 13,
   "metadata": {},
   "outputs": [
    {
     "name": "stdout",
     "output_type": "stream",
     "text": [
      "La media de edad es: 49.04735\n",
      "CPU times: user 7.18 ms, sys: 12.2 ms, total: 19.4 ms\n",
      "Wall time: 924 ms\n"
     ]
    }
   ],
   "source": [
    "%%time\n",
    "!python cassandra/consultas_cassandra.py"
   ]
  }
 ],
 "metadata": {
  "kernelspec": {
   "display_name": "basesdatos",
   "language": "python",
   "name": "python3"
  },
  "language_info": {
   "codemirror_mode": {
    "name": "ipython",
    "version": 3
   },
   "file_extension": ".py",
   "mimetype": "text/x-python",
   "name": "python",
   "nbconvert_exporter": "python",
   "pygments_lexer": "ipython3",
   "version": "3.7.16"
  }
 },
 "nbformat": 4,
 "nbformat_minor": 2
}
